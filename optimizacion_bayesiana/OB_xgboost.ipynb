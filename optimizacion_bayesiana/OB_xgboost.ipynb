{
 "cells": [
  {
   "cell_type": "code",
   "execution_count": 1,
   "metadata": {},
   "outputs": [],
   "source": [
    "import pandas as pd\n",
    "from hyperopt import fmin, tpe, STATUS_OK, Trials\n",
    "from sklearn.metrics import roc_auc_score\n",
    "from config import config"
   ]
  },
  {
   "cell_type": "code",
   "execution_count": 2,
   "metadata": {},
   "outputs": [],
   "source": [
    "# Define the space over which to search\n",
    "config_ML = config()\n",
    "\n",
    "series_CV = config_ML['CV']\n",
    "model     = config_ML['RF']\n",
    "space     = model['space']\n",
    "clf       = model['model']\n",
    "output    = model['output']\n",
    "\n",
    "log = []"
   ]
  },
  {
   "cell_type": "code",
   "execution_count": 3,
   "metadata": {},
   "outputs": [],
   "source": [
    "# df = pd.read_csv('../data/vdem_coup.csv',parse_dates=True,keep_date_col=True)\n",
    "df = pd.read_pickle('../data/vdem_coup.pkg')\n",
    "\n",
    "# drop non numeric columns for df pandas dataframe\n",
    "df = df.select_dtypes(include=['number'])\n",
    "\n",
    "X = df.drop('coup', axis=1)\n",
    "y = df.set_index('year')['coup']\n",
    "X.fillna(0, inplace=True)"
   ]
  },
  {
   "cell_type": "code",
   "execution_count": 4,
   "metadata": {},
   "outputs": [],
   "source": [
    "def block_time_series_CV(X, y, model,series_CV=series_CV):\n",
    "\n",
    "    # Perform block time-series cross-validation\n",
    "    scores = []\n",
    "    for n in range(1,6):\n",
    "        inicio_train = series_CV[n]['train'][0]\n",
    "        fin_train    = series_CV[n]['train'][1]\n",
    "        inicio_val   = series_CV[n]['val'][0]\n",
    "        fin_val      = series_CV[n]['val'][1]\n",
    "        \n",
    "        X_train = X[X['year'].between(inicio_train, fin_train)]\n",
    "        X_val   = X[X['year'].between(inicio_val, fin_val)]\n",
    "        y_train = y[(y.index>=inicio_train)&(y.index<=fin_train)]\n",
    "        y_val  =  y[(y.index>=inicio_val)  &(y.index<=fin_val)]\n",
    "        \n",
    "        \n",
    "        model.fit(X_train, y_train)\n",
    "        y_pred = model.predict(X_val)\n",
    "        score = roc_auc_score(y_val, y_pred)\n",
    "        scores.append(score)\n",
    "    \n",
    "        mean_score = sum(scores) / len(scores)\n",
    "    return -mean_score\n",
    "\n",
    "# Define the objective function\n",
    "def objective(params,clf=clf,log=log,output=output):\n",
    "    \n",
    "    clf.set_params(**params,random_state=42)\n",
    "          \n",
    "    mean_score = block_time_series_CV(X, y, clf)        \n",
    "    \n",
    "    params['score'] = mean_score\n",
    "    \n",
    "    log.append(params)\n",
    "    \n",
    "    pd.DataFrame(log).to_csv(output, index=True,sep='\\t',index_label='iteration')\n",
    "    \n",
    "    return {'loss': -mean_score, 'status': STATUS_OK}"
   ]
  },
  {
   "cell_type": "code",
   "execution_count": 5,
   "metadata": {},
   "outputs": [
    {
     "name": "stdout",
     "output_type": "stream",
     "text": [
      "100%|██████████| 10/10 [00:38<00:00,  3.87s/trial, best loss: 0.5]\n"
     ]
    }
   ],
   "source": [
    "# Run the optimizer\n",
    "trials = Trials()\n",
    "best = fmin(fn=objective, space=space, algo=tpe.suggest, max_evals=10, trials=trials)"
   ]
  }
 ],
 "metadata": {
  "kernelspec": {
   "display_name": "Python 3",
   "language": "python",
   "name": "python3"
  },
  "language_info": {
   "codemirror_mode": {
    "name": "ipython",
    "version": 3
   },
   "file_extension": ".py",
   "mimetype": "text/x-python",
   "name": "python",
   "nbconvert_exporter": "python",
   "pygments_lexer": "ipython3",
   "version": "3.12.0"
  }
 },
 "nbformat": 4,
 "nbformat_minor": 2
}
